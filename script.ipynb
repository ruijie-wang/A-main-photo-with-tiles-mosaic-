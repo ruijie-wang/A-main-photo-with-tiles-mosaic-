{
 "cells": [
  {
   "cell_type": "markdown",
   "id": "ef262189",
   "metadata": {},
   "source": [
    "I learned from [**How to Create a Photo Mosaic in Python**](https://towardsdatascience.com/how-to-create-a-photo-mosaic-in-python-45c94f6e8308)"
   ]
  },
  {
   "cell_type": "code",
   "execution_count": 13,
   "id": "f2cae686",
   "metadata": {},
   "outputs": [],
   "source": [
    "#import libs\n",
    "\n",
    "import glob\n",
    "from PIL import Image\n",
    "from scipy import spatial\n",
    "import numpy as np\n",
    "import matplotlib.pyplot as plt"
   ]
  },
  {
   "cell_type": "code",
   "execution_count": 2,
   "id": "2848f1ce",
   "metadata": {},
   "outputs": [],
   "source": [
    "# define the path of tiles and main image\n",
    "\n",
    "main_photo_path = 'photos/main/main.jpg'\n",
    "tile_photos_path = 'photos/tiles/*'\n",
    "tile_size = (50,50)"
   ]
  },
  {
   "cell_type": "code",
   "execution_count": 3,
   "id": "60d25640",
   "metadata": {},
   "outputs": [],
   "source": [
    "# get all tiles\n",
    "tile_paths = []\n",
    "for file in glob.glob(tile_photos_path):\n",
    "    tile_paths.append(file)"
   ]
  },
  {
   "cell_type": "code",
   "execution_count": 4,
   "id": "18102674",
   "metadata": {},
   "outputs": [],
   "source": [
    "# Import and resize all tiles\n",
    "from PIL import Image, ImageOps\n",
    "tiles = []\n",
    "for path in tile_paths:\n",
    "    tile = Image.open(path)\n",
    "    tile = ImageOps.exif_transpose(tile)\n",
    "    tile = tile.resize(tile_size)\n",
    "    tiles.append(tile)"
   ]
  },
  {
   "cell_type": "code",
   "execution_count": 5,
   "id": "0631175e",
   "metadata": {},
   "outputs": [],
   "source": [
    "# #show some example of images\n",
    "# for i in range(len(tiles)):\n",
    "#     plt.figure(i)\n",
    "#     plt.imshow(tiles[i])"
   ]
  },
  {
   "cell_type": "code",
   "execution_count": 6,
   "id": "1fb099b8",
   "metadata": {},
   "outputs": [],
   "source": [
    "# from PIL import Image, ImageOps\n",
    "\n",
    "# img = Image.open('photos/tiles\\\\clock1.JPG')\n",
    "# img = ImageOps.exif_transpose(img)   # this line was used to change the direction\n",
    "# img"
   ]
  },
  {
   "cell_type": "markdown",
   "id": "afd2a1c7",
   "metadata": {},
   "source": [
    "Some information about mean(axis=0)<br>\n",
    "[np.mean(a，axis=0)](https://numpy.org/doc/stable/reference/generated/numpy.mean.html)"
   ]
  },
  {
   "cell_type": "code",
   "execution_count": 7,
   "id": "76323dc6",
   "metadata": {},
   "outputs": [],
   "source": [
    "# Calculate dominant color\n",
    "colors = []\n",
    "for tile in tiles:\n",
    "    mean_color = np.array(tile).mean(axis=0).mean(axis=0) # how to understand (axis=0)\n",
    "    colors.append(mean_color)"
   ]
  },
  {
   "cell_type": "code",
   "execution_count": 8,
   "id": "185a3553",
   "metadata": {},
   "outputs": [],
   "source": [
    "# y = np.array(Image.open(filename).convert('RGB').resize((300,300)))"
   ]
  },
  {
   "cell_type": "code",
   "execution_count": 9,
   "id": "3ee07fd1",
   "metadata": {},
   "outputs": [],
   "source": [
    "# Pixelate (resize) main photo\n",
    "main_photo = Image.open(main_photo_path)\n",
    "main_photo = ImageOps.exif_transpose(main_photo)\n",
    "\n",
    "width = int(np.round(main_photo.size[0]/ tile_size[0]))\n",
    "height = int(np.round(main_photo.size[1]/tile_size[1]))\n",
    "\n",
    "resized_photo = main_photo.resize((width, height))"
   ]
  },
  {
   "cell_type": "code",
   "execution_count": 10,
   "id": "28834123",
   "metadata": {},
   "outputs": [],
   "source": [
    "# Find closest tile photo for every pixel\n",
    "\n",
    "# create a KDTree\n",
    "tree = spatial.KDTree(colors)  # what is KDTree, it might be used to search\n",
    "\n",
    "#Empty integer array to store indices of tiles\n",
    "closest_tiles = np.zeros((width, height),dtype=np.uint32)\n",
    "\n",
    "for i in range(width):\n",
    "    for j in range(height):\n",
    "        pixel = resized_photo.getpixel((i,j))\n",
    "        closest = tree.query(pixel)\n",
    "        closest_tiles[i,j] = closest[1]"
   ]
  },
  {
   "cell_type": "code",
   "execution_count": 11,
   "id": "77650426",
   "metadata": {},
   "outputs": [],
   "source": [
    "# create an output image\n",
    "output = Image.new('RGB',main_photo.size)\n",
    "\n",
    "#Draw tiles\n",
    "for i in range(width):\n",
    "    for j in range(height):\n",
    "        #offset of tile\n",
    "        x,y = i*tile_size[0],j*tile_size[1]\n",
    "        #index of tile\n",
    "        index = closest_tiles[i,j]\n",
    "        #draw tile\n",
    "        output.paste(tiles[index],(x,y))\n",
    "        \n",
    "#save output\n",
    "output.save('output.jpg')"
   ]
  },
  {
   "cell_type": "code",
   "execution_count": 28,
   "id": "c0f419ac",
   "metadata": {},
   "outputs": [],
   "source": [
    "# resize the output image\n",
    "output = Image.open('output.jpg')\n",
    "resize_output = output.resize((300,300),Image.ANTIALIAS)\n",
    "resize_output.save('resize_output.jpg')"
   ]
  },
  {
   "cell_type": "code",
   "execution_count": null,
   "id": "a1cb939e",
   "metadata": {},
   "outputs": [],
   "source": [
    "# resize the output image\n",
    "output = Image.open('output.jpg')\n",
    "resize_output = output.resize((300,300),Image.ANTIALIAS)\n",
    "resize_output.save('resize_output.jpg')"
   ]
  }
 ],
 "metadata": {
  "kernelspec": {
   "display_name": "Python 3",
   "language": "python",
   "name": "python3"
  },
  "language_info": {
   "codemirror_mode": {
    "name": "ipython",
    "version": 3
   },
   "file_extension": ".py",
   "mimetype": "text/x-python",
   "name": "python",
   "nbconvert_exporter": "python",
   "pygments_lexer": "ipython3",
   "version": "3.8.8"
  }
 },
 "nbformat": 4,
 "nbformat_minor": 5
}
